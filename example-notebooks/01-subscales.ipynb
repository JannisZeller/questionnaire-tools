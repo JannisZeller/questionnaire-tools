{
 "cells": [
  {
   "attachments": {},
   "cell_type": "markdown",
   "metadata": {},
   "source": [
    "# Example Subscales\n",
    "\n",
    "-----\n",
    "\n",
    "The example subscales in this notebook stem from a german questionnaire on Physic's Teachers Pedagogicaln Content Knowledge."
   ]
  },
  {
   "cell_type": "markdown",
   "metadata": {},
   "source": [
    "## Load Data"
   ]
  },
  {
   "cell_type": "code",
   "execution_count": 1,
   "metadata": {},
   "outputs": [],
   "source": [
    "import qutools.data as qtdata\n",
    "\n",
    "from qutools.data.subscales import compare_n_subscale_allocations"
   ]
  },
  {
   "cell_type": "code",
   "execution_count": 2,
   "metadata": {},
   "outputs": [
    {
     "name": "stdout",
     "output_type": "stream",
     "text": [
      "Warning: The `na_aliases` are not specified in the config-yaml under the \"metadata\" primary key. Defaulting to \n",
      "[99, '99', '', '-', '--', 'NA', 'Na', 'na', 'Null', 'null', ' ', 'nan', 'NaN', 'Nan', 'NAN', nan].\n"
     ]
    }
   ],
   "source": [
    "quconfig = qtdata.QuConfig.from_yaml(\"quconfigs/physics-pck.yaml\")\n",
    "\n",
    "dimension_names_en = [\"Reproduce\", \"Apply\", \"Create\", \"Analyze\", \"Evaluate\", \"Teaching Situation\"]\n",
    "dimension_names_de = [\"Reproduzieren\", \"Anwenden\", \"Kreieren\", \"Analysieren\", \"Evaluieren\", \"Unterrichtssituation\"]\n",
    "\n",
    "def process_subscales(qusub: qtdata.QuSubscales) -> qtdata.QuSubscales:\n",
    "    qusub = qusub.combine_subscales([\"Erinnern\", \"Verstehen\"], \"Reproduzieren\")\n",
    "    qusub = qusub.drop_subscales([\"Fachwissen\", \"Beispiel\"])\n",
    "    for de, en in zip(dimension_names_de, dimension_names_en):\n",
    "        qusub = qusub.rename_subscale(de, en)\n",
    "    return qusub"
   ]
  },
  {
   "cell_type": "markdown",
   "metadata": {},
   "source": [
    "## Different Raters"
   ]
  },
  {
   "cell_type": "code",
   "execution_count": null,
   "metadata": {},
   "outputs": [],
   "source": [
    "qusubs = []\n",
    "nums = []\n",
    "for i in range(1, 4):\n",
    "    qusubs.append(qtdata.QuSubscales(\n",
    "        quconfig=quconfig,\n",
    "        df_cat=f\"<NOT IN THIS REPO>/subscale-allocations-rater{i}.xlsx\",\n",
    "    ))"
   ]
  },
  {
   "cell_type": "code",
   "execution_count": 12,
   "metadata": {},
   "outputs": [
    {
     "data": {
      "text/html": [
       "<div>\n",
       "<style scoped>\n",
       "    .dataframe tbody tr th:only-of-type {\n",
       "        vertical-align: middle;\n",
       "    }\n",
       "\n",
       "    .dataframe tbody tr th {\n",
       "        vertical-align: top;\n",
       "    }\n",
       "\n",
       "    .dataframe thead th {\n",
       "        text-align: right;\n",
       "    }\n",
       "</style>\n",
       "<table border=\"1\" class=\"dataframe\">\n",
       "  <thead>\n",
       "    <tr style=\"text-align: right;\">\n",
       "      <th></th>\n",
       "      <th>Reproduce</th>\n",
       "      <th>Apply</th>\n",
       "      <th>Analyze</th>\n",
       "      <th>Evaluate</th>\n",
       "      <th>Create</th>\n",
       "      <th>Teaching Situation</th>\n",
       "    </tr>\n",
       "  </thead>\n",
       "  <tbody>\n",
       "    <tr>\n",
       "      <th>rater1 vs rater2</th>\n",
       "      <td>0.841</td>\n",
       "      <td>0.625</td>\n",
       "      <td>0.769</td>\n",
       "      <td>0.625</td>\n",
       "      <td>0.71</td>\n",
       "      <td>0.777</td>\n",
       "    </tr>\n",
       "    <tr>\n",
       "      <th>rater1 vs rater3</th>\n",
       "      <td>0.834</td>\n",
       "      <td>0.557</td>\n",
       "      <td>0.526</td>\n",
       "      <td>0.710</td>\n",
       "      <td>1.00</td>\n",
       "      <td>0.847</td>\n",
       "    </tr>\n",
       "    <tr>\n",
       "      <th>rater2 vs rater3</th>\n",
       "      <td>0.834</td>\n",
       "      <td>0.595</td>\n",
       "      <td>0.622</td>\n",
       "      <td>0.419</td>\n",
       "      <td>0.71</td>\n",
       "      <td>0.626</td>\n",
       "    </tr>\n",
       "  </tbody>\n",
       "</table>\n",
       "</div>"
      ],
      "text/plain": [
       "                  Reproduce  Apply  Analyze  Evaluate  Create  \\\n",
       "rater1 vs rater2      0.841  0.625    0.769     0.625    0.71   \n",
       "rater1 vs rater3      0.834  0.557    0.526     0.710    1.00   \n",
       "rater2 vs rater3      0.834  0.595    0.622     0.419    0.71   \n",
       "\n",
       "                  Teaching Situation  \n",
       "rater1 vs rater2               0.777  \n",
       "rater1 vs rater3               0.847  \n",
       "rater2 vs rater3               0.626  "
      ]
     },
     "execution_count": 12,
     "metadata": {},
     "output_type": "execute_result"
    }
   ],
   "source": [
    "qusubs_dict = {f\"rater{i+1}\": process_subscales(qusub) for i, qusub in enumerate(qusubs)}\n",
    "compare_n_subscale_allocations(qusubs=qusubs_dict).transpose().round(3)"
   ]
  },
  {
   "cell_type": "markdown",
   "metadata": {},
   "source": [
    "## Consensus"
   ]
  },
  {
   "cell_type": "code",
   "execution_count": null,
   "metadata": {},
   "outputs": [],
   "source": [
    "qusub = qtdata.QuSubscales(\n",
    "    quconfig=quconfig,\n",
    "    df_cat=f\"<NOT IN THIS REPO>/subscale-allocations-consensus.xlsx\",\n",
    ")\n",
    "qusub = process_subscales(qusub)"
   ]
  },
  {
   "cell_type": "code",
   "execution_count": 6,
   "metadata": {},
   "outputs": [
    {
     "data": {
      "text/html": [
       "<div>\n",
       "<style scoped>\n",
       "    .dataframe tbody tr th:only-of-type {\n",
       "        vertical-align: middle;\n",
       "    }\n",
       "\n",
       "    .dataframe tbody tr th {\n",
       "        vertical-align: top;\n",
       "    }\n",
       "\n",
       "    .dataframe thead th {\n",
       "        text-align: right;\n",
       "    }\n",
       "</style>\n",
       "<table border=\"1\" class=\"dataframe\">\n",
       "  <thead>\n",
       "    <tr style=\"text-align: right;\">\n",
       "      <th></th>\n",
       "      <th>Reproduce</th>\n",
       "      <th>Apply</th>\n",
       "      <th>Analyze</th>\n",
       "      <th>Evaluate</th>\n",
       "      <th>Create</th>\n",
       "      <th>Teaching Situation</th>\n",
       "    </tr>\n",
       "  </thead>\n",
       "  <tbody>\n",
       "    <tr>\n",
       "      <th>taskcount</th>\n",
       "      <td>12.0</td>\n",
       "      <td>5.0</td>\n",
       "      <td>10.0</td>\n",
       "      <td>4.0</td>\n",
       "      <td>5.0</td>\n",
       "      <td>12.0</td>\n",
       "    </tr>\n",
       "  </tbody>\n",
       "</table>\n",
       "</div>"
      ],
      "text/plain": [
       "           Reproduce  Apply  Analyze  Evaluate  Create  Teaching Situation\n",
       "taskcount       12.0    5.0     10.0       4.0     5.0                12.0"
      ]
     },
     "execution_count": 6,
     "metadata": {},
     "output_type": "execute_result"
    }
   ],
   "source": [
    "qusub.get_taskcounts(as_dataframe=True)"
   ]
  },
  {
   "cell_type": "code",
   "execution_count": 7,
   "metadata": {},
   "outputs": [
    {
     "data": {
      "text/html": [
       "<div>\n",
       "<style scoped>\n",
       "    .dataframe tbody tr th:only-of-type {\n",
       "        vertical-align: middle;\n",
       "    }\n",
       "\n",
       "    .dataframe tbody tr th {\n",
       "        vertical-align: top;\n",
       "    }\n",
       "\n",
       "    .dataframe thead th {\n",
       "        text-align: right;\n",
       "    }\n",
       "</style>\n",
       "<table border=\"1\" class=\"dataframe\">\n",
       "  <thead>\n",
       "    <tr style=\"text-align: right;\">\n",
       "      <th></th>\n",
       "      <th>Reproduce</th>\n",
       "      <th>Apply</th>\n",
       "      <th>Analyze</th>\n",
       "      <th>Evaluate</th>\n",
       "      <th>Create</th>\n",
       "      <th>Teaching Situation</th>\n",
       "    </tr>\n",
       "  </thead>\n",
       "  <tbody>\n",
       "    <tr>\n",
       "      <th>max_score</th>\n",
       "      <td>23.0</td>\n",
       "      <td>8.0</td>\n",
       "      <td>13.0</td>\n",
       "      <td>5.0</td>\n",
       "      <td>9.0</td>\n",
       "      <td>16.0</td>\n",
       "    </tr>\n",
       "  </tbody>\n",
       "</table>\n",
       "</div>"
      ],
      "text/plain": [
       "           Reproduce  Apply  Analyze  Evaluate  Create  Teaching Situation\n",
       "max_score       23.0    8.0     13.0       5.0     9.0                16.0"
      ]
     },
     "execution_count": 7,
     "metadata": {},
     "output_type": "execute_result"
    }
   ],
   "source": [
    "qusub.get_max_scores(as_dataframe=True)"
   ]
  }
 ],
 "metadata": {
  "kernelspec": {
   "display_name": "diss",
   "language": "python",
   "name": "python3"
  },
  "language_info": {
   "codemirror_mode": {
    "name": "ipython",
    "version": 3
   },
   "file_extension": ".py",
   "mimetype": "text/x-python",
   "name": "python",
   "nbconvert_exporter": "python",
   "pygments_lexer": "ipython3",
   "version": "3.12.5"
  },
  "orig_nbformat": 4
 },
 "nbformat": 4,
 "nbformat_minor": 2
}
