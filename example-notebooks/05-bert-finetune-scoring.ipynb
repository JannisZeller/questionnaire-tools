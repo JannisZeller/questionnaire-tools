{
 "cells": [
  {
   "cell_type": "markdown",
   "metadata": {},
   "source": [
    "# Predicting the Task-Scores from Responses\n",
    "\n",
    "---\n",
    "\n",
    "This notebook demonstrates the automation of the tasks scoring procedures using \n",
    "a BERT-model that is getting finetuned. It showcases several configuration choices \n",
    "that can be made to the procedure."
   ]
  },
  {
   "cell_type": "code",
   "execution_count": null,
   "metadata": {},
   "outputs": [],
   "source": [
    "model_name = \"dbmdz/bert-base-german-uncased\"\n",
    "n_epochs = 3\n",
    "finetune_taskwise = False\n",
    "omit_tasknames = True\n",
    "cv_splits = 3\n",
    "oversample = False\n",
    "\n",
    "# Temporary folder for the model\n",
    "model_dir = \"<NOT IN THIS REPO>\""
   ]
  },
  {
   "cell_type": "markdown",
   "metadata": {},
   "source": [
    "## Setup"
   ]
  },
  {
   "cell_type": "code",
   "execution_count": 2,
   "metadata": {},
   "outputs": [],
   "source": [
    "from torch.cuda import is_available as cuda_available\n",
    "from torch.backends.mps import is_available as mps_available\n",
    "\n",
    "import qutools.data as qtdata\n",
    "import qutools.clustering as qtclst\n",
    "import qutools.scoring as qtscore"
   ]
  },
  {
   "cell_type": "code",
   "execution_count": null,
   "metadata": {},
   "outputs": [],
   "source": [
    "model_name_short = \"bert\"\n",
    "results_path = f\"data/output/scoring-results/finetune/{model_name_short}-{n_epochs}ep-{cv_splits}cv\"\n",
    "if omit_tasknames:\n",
    "    results_path += \"-notasknames\"\n",
    "if finetune_taskwise:\n",
    "    results_path += \"-taskwise\"\n",
    "if oversample:\n",
    "    results_path += \"-oversample\""
   ]
  },
  {
   "cell_type": "code",
   "execution_count": null,
   "metadata": {},
   "outputs": [
    {
     "name": "stdout",
     "output_type": "stream",
     "text": [
      "Warning: The `na_aliases` are not specified in the config-yaml under the \"metadata\" primary key. Defaulting to \n",
      "[99, '99', '', '-', '--', 'NA', 'Na', 'na', 'Null', 'null', ' ', 'nan', 'NaN', 'Nan', 'NAN', nan].\n",
      "Checked ID-matches. ✓\n",
      "Validated ID-columns. ✓\n",
      "Validated text-columns. ✓\n",
      "Cleaning text-data whitespaces. ✓\n",
      "All scores in correct ranges. ✓\n",
      "Validated score-columns. ✓\n",
      "Found the following score proportions:\n",
      "\t {0.0: '61.55 %', 1.0: '25.3 %', 2.0: '13.03 %', 3.0: '0.11 %'}\n",
      "\t-> Replacing according to {3.0: 2}\n",
      "Loading QuData:\n",
      "---------------\n",
      "Checked ID-matches. ✓\n",
      "Validated ID-columns. ✓\n",
      "Validated text-columns. ✓\n",
      "Cleaning text-data whitespaces. ✓\n",
      "All scores in correct ranges. ✓\n",
      "Validated score-columns. ✓\n",
      "Scores-Shape: (846, 44)\n",
      "---------------\n",
      "Found QuSubscales containing the subscales:\n",
      "['Reproduzieren', 'Anwenden-Kreieren', 'Analysieren-Evaluieren']\n",
      "The following exploratory QuScoreClusters-Model has been found:\n",
      "QuScoreClusters(\n",
      "\t- Config: QuestionnaireConfig(23 text, 4 multiple_choice)\n",
      "\t- Data: text-data: (846, 33) (items-cols) | score-data: (846, 44) (mc_items-cols)\n",
      "\t- Incomplete dropped (<0.5)\n",
      "\t- Cluster-Model: GMWrapper[GaussianMixture(covariance_type='tied', n_components=4, n_init=10,\n",
      "                random_state=5555)]\n",
      "\t- Subscales: ['Reproduzieren', 'Anwenden-Kreieren', 'Analysieren-Evaluieren']\n",
      "\t- Cluster-Labels: ['Low Achievers', 'Applying Creatives', 'Analytic Evaluators', 'High Achievers']\n",
      ")\n"
     ]
    }
   ],
   "source": [
    "quconfig_path = qtdata.QuConfig.from_yaml(\"quconfigs/physics-pck.yaml\")\n",
    "quconfig = qtdata.QuConfig.from_yaml(quconfig_path)\n",
    "\n",
    "qudata = qtdata.QuData(\n",
    "    quconfig=quconfig,\n",
    "    df_txt=\"<NOT IN THIS REPO>/booklets.xlsx\",\n",
    "    df_scr=\"<NOT IN THIS REPO>/pck-scores.xlsx\",\n",
    "    clip_sparingly_occurring_scores=True\n",
    ")\n",
    "\n",
    "quclst = qtclst.QuScoreClusters.from_dir(\"<NOT IN THIS REPO>/clst-model\")"
   ]
  },
  {
   "cell_type": "code",
   "execution_count": 5,
   "metadata": {},
   "outputs": [
    {
     "name": "stdout",
     "output_type": "stream",
     "text": [
      "Using cuda device.\n"
     ]
    }
   ],
   "source": [
    "device = \"cuda\" if cuda_available() else \"mps\" if mps_available() else \"cpu\"\n",
    "print(f\"Using {device} device.\")"
   ]
  },
  {
   "cell_type": "markdown",
   "metadata": {},
   "source": [
    "## Train Model"
   ]
  },
  {
   "cell_type": "code",
   "execution_count": 6,
   "metadata": {},
   "outputs": [
    {
     "name": "stderr",
     "output_type": "stream",
     "text": [
      "Some weights of BertForSequenceClassification were not initialized from the model checkpoint at dbmdz/bert-base-german-uncased and are newly initialized: ['classifier.bias', 'classifier.weight']\n",
      "You should probably TRAIN this model on a down-stream task to be able to use it for predictions and inference.\n"
     ]
    },
    {
     "name": "stdout",
     "output_type": "stream",
     "text": [
      "Scoring Model: dbmdz/bert-base-german-uncased\n",
      "Trainable: 109929987 / Total: 109929987\n",
      "Did not find a stored `pretrained_language_model`.\n",
      "No trained model to be saved.\n",
      "Using the following training args:\n",
      " - n_epochs = 3\n",
      " - test_batch_size = 16\n",
      " - eval_steps = 200\n",
      " - logging_steps = 50\n",
      " - device = cuda\n",
      " - cv_training_stuck_attemts = 3\n",
      " - stuck_std_threshold_acc = 0.0001\n",
      " - stuck_std_threshold_loss = 0.01\n"
     ]
    }
   ],
   "source": [
    "quscr = qtscore.QuFinetuneScorer(\n",
    "    save_dir=model_dir,\n",
    "    model_name=model_name,\n",
    "    num_labels=qudata.get_n_classes(),\n",
    "    item_task_prefix=omit_tasknames==False,\n",
    "    it_repl_dict={\"A\": \"Aufgabe \"},\n",
    "    sep=\" [SEP] \",\n",
    ")\n",
    "\n",
    "quscr.set_training_args(\n",
    "    n_epochs=n_epochs,\n",
    ")"
   ]
  },
  {
   "cell_type": "markdown",
   "metadata": {},
   "source": [
    "The following cell also shows the cabability of the finetune-scorer to only fit \n",
    "cross-validation-splits, that have not been used already in the live-updated \n",
    "results-object stored in the `model_dir`."
   ]
  },
  {
   "cell_type": "code",
   "execution_count": 7,
   "metadata": {},
   "outputs": [
    {
     "name": "stdout",
     "output_type": "stream",
     "text": [
      "Warning: Clustering is not supervised learning. Prediction of\n",
      "\tclasslabels for new or unseen data might be inappropiate\n",
      "\tand might not even work, depending on the cluster model.\n"
     ]
    },
    {
     "data": {
      "image/png": "[encoded data removed]",
      "text/plain": [
       "<Figure size 640x480 with 1 Axes>"
      ]
     },
     "metadata": {},
     "output_type": "display_data"
    },
    {
     "data": {
      "image/png": "[encoded data removed]",
      "text/plain": [
       "<Figure size 640x480 with 1 Axes>"
      ]
     },
     "metadata": {},
     "output_type": "display_data"
    },
    {
     "name": "stdout",
     "output_type": "stream",
     "text": [
      "Generatred id-split (n_splits=3, random_state=5555, N-test=3) \n",
      "\n",
      "Info: There are persons/test edits without any valid text-responses, which will not \n",
      "\tbe included in the `.get_txt(...)`-method's result:\n",
      "\t['GR-B2-MZP1-EEA15' 'GR-B2-MZP1-IEE09']\n",
      "- Word-Count (approx.): 262089\n",
      "- Token-Count (exact.): 411090\n",
      "- Token per Word (approx.): 1.57\n",
      "- Document length exeeding embedding model's maximum sequence length:\n",
      "\t- Absolute: 0\n",
      "\t- Relative: 0.00 %\n",
      "Loaded QuScorerResults from \"temp/curr/qusr\".\n",
      "\n",
      "CV-Split 3 of 3:\n",
      "---------------------------------------------------------------------------------------------------\n",
      "Encoding:\n"
     ]
    },
    {
     "data": {
      "application/vnd.jupyter.widget-view+json": {
       "model_id": "aa689c5b9d7d4c1a99e896be2ccaca87",
       "version_major": 2,
       "version_minor": 0
      },
      "text/plain": [
       "Map:   0%|          | 0/10309 [00:00<?, ? examples/s]"
      ]
     },
     "metadata": {},
     "output_type": "display_data"
    },
    {
     "data": {
      "application/vnd.jupyter.widget-view+json": {
       "model_id": "32ec2153dc4646fbb2e02d87f259a081",
       "version_major": 2,
       "version_minor": 0
      },
      "text/plain": [
       "Map:   0%|          | 0/5291 [00:00<?, ? examples/s]"
      ]
     },
     "metadata": {},
     "output_type": "display_data"
    },
    {
     "name": "stdout",
     "output_type": "stream",
     "text": [
      "\n",
      "Training:\n"
     ]
    },
    {
     "data": {
      "text/html": [
       "\n",
       "    <div>\n",
       "      \n",
       "      <progress value='3867' max='3867' style='width:300px; height:20px; vertical-align: middle;'></progress>\n",
       "      [3867/3867 43:48, Epoch 3/3]\n",
       "    </div>\n",
       "    <table border=\"1\" class=\"dataframe\">\n",
       "  <thead>\n",
       " <tr style=\"text-align: left;\">\n",
       "      <th>Step</th>\n",
       "      <th>Training Loss</th>\n",
       "      <th>Validation Loss</th>\n",
       "      <th>Accuracy</th>\n",
       "      <th>F1</th>\n",
       "    </tr>\n",
       "  </thead>\n",
       "  <tbody>\n",
       "    <tr>\n",
       "      <td>200</td>\n",
       "      <td>0.879600</td>\n",
       "      <td>0.793392</td>\n",
       "      <td>0.617464</td>\n",
       "      <td>0.596591</td>\n",
       "    </tr>\n",
       "    <tr>\n",
       "      <td>400</td>\n",
       "      <td>0.799000</td>\n",
       "      <td>0.742932</td>\n",
       "      <td>0.640144</td>\n",
       "      <td>0.616599</td>\n",
       "    </tr>\n",
       "    <tr>\n",
       "      <td>600</td>\n",
       "      <td>0.800800</td>\n",
       "      <td>0.729695</td>\n",
       "      <td>0.647137</td>\n",
       "      <td>0.646202</td>\n",
       "    </tr>\n",
       "    <tr>\n",
       "      <td>800</td>\n",
       "      <td>0.752900</td>\n",
       "      <td>0.720650</td>\n",
       "      <td>0.645436</td>\n",
       "      <td>0.628268</td>\n",
       "    </tr>\n",
       "    <tr>\n",
       "      <td>1000</td>\n",
       "      <td>0.755400</td>\n",
       "      <td>0.678938</td>\n",
       "      <td>0.687772</td>\n",
       "      <td>0.676554</td>\n",
       "    </tr>\n",
       "    <tr>\n",
       "      <td>1200</td>\n",
       "      <td>0.758600</td>\n",
       "      <td>0.710797</td>\n",
       "      <td>0.670573</td>\n",
       "      <td>0.661557</td>\n",
       "    </tr>\n",
       "    <tr>\n",
       "      <td>1400</td>\n",
       "      <td>0.582500</td>\n",
       "      <td>0.730755</td>\n",
       "      <td>0.679267</td>\n",
       "      <td>0.675465</td>\n",
       "    </tr>\n",
       "    <tr>\n",
       "      <td>1600</td>\n",
       "      <td>0.624300</td>\n",
       "      <td>0.683024</td>\n",
       "      <td>0.695332</td>\n",
       "      <td>0.693268</td>\n",
       "    </tr>\n",
       "    <tr>\n",
       "      <td>1800</td>\n",
       "      <td>0.585900</td>\n",
       "      <td>0.679857</td>\n",
       "      <td>0.690418</td>\n",
       "      <td>0.686534</td>\n",
       "    </tr>\n",
       "    <tr>\n",
       "      <td>2000</td>\n",
       "      <td>0.580800</td>\n",
       "      <td>0.684929</td>\n",
       "      <td>0.711964</td>\n",
       "      <td>0.708969</td>\n",
       "    </tr>\n",
       "    <tr>\n",
       "      <td>2200</td>\n",
       "      <td>0.598600</td>\n",
       "      <td>0.717987</td>\n",
       "      <td>0.690418</td>\n",
       "      <td>0.685611</td>\n",
       "    </tr>\n",
       "    <tr>\n",
       "      <td>2400</td>\n",
       "      <td>0.599300</td>\n",
       "      <td>0.693451</td>\n",
       "      <td>0.712720</td>\n",
       "      <td>0.698129</td>\n",
       "    </tr>\n",
       "    <tr>\n",
       "      <td>2600</td>\n",
       "      <td>0.471500</td>\n",
       "      <td>0.746485</td>\n",
       "      <td>0.720091</td>\n",
       "      <td>0.716021</td>\n",
       "    </tr>\n",
       "    <tr>\n",
       "      <td>2800</td>\n",
       "      <td>0.370300</td>\n",
       "      <td>0.891245</td>\n",
       "      <td>0.720847</td>\n",
       "      <td>0.718241</td>\n",
       "    </tr>\n",
       "    <tr>\n",
       "      <td>3000</td>\n",
       "      <td>0.358500</td>\n",
       "      <td>0.845820</td>\n",
       "      <td>0.718201</td>\n",
       "      <td>0.717899</td>\n",
       "    </tr>\n",
       "    <tr>\n",
       "      <td>3200</td>\n",
       "      <td>0.356200</td>\n",
       "      <td>0.929682</td>\n",
       "      <td>0.702136</td>\n",
       "      <td>0.708861</td>\n",
       "    </tr>\n",
       "    <tr>\n",
       "      <td>3400</td>\n",
       "      <td>0.437400</td>\n",
       "      <td>0.837633</td>\n",
       "      <td>0.713476</td>\n",
       "      <td>0.716085</td>\n",
       "    </tr>\n",
       "    <tr>\n",
       "      <td>3600</td>\n",
       "      <td>0.378700</td>\n",
       "      <td>0.863688</td>\n",
       "      <td>0.719335</td>\n",
       "      <td>0.719582</td>\n",
       "    </tr>\n",
       "    <tr>\n",
       "      <td>3800</td>\n",
       "      <td>0.363500</td>\n",
       "      <td>0.868886</td>\n",
       "      <td>0.720469</td>\n",
       "      <td>0.722258</td>\n",
       "    </tr>\n",
       "  </tbody>\n",
       "</table><p>"
      ],
      "text/plain": [
       "<IPython.core.display.HTML object>"
      ]
     },
     "metadata": {},
     "output_type": "display_data"
    },
    {
     "name": "stdout",
     "output_type": "stream",
     "text": [
      "\n",
      "Storing Predictions:\n"
     ]
    },
    {
     "name": "stderr",
     "output_type": "stream",
     "text": [
      "100%|██████████| 645/645 [01:56<00:00,  5.53it/s]\n",
      "100%|██████████| 331/331 [01:01<00:00,  5.40it/s]\n"
     ]
    },
    {
     "data": {
      "image/png": "[encoded data removed]",
      "text/plain": [
       "<Figure size 640x480 with 1 Axes>"
      ]
     },
     "metadata": {},
     "output_type": "display_data"
    }
   ],
   "source": [
    "qusr = quscr.random_cross_validate(\n",
    "    qudata=qudata,\n",
    "    quclst=quclst,\n",
    "    n_splits=cv_splits,\n",
    "    finetune_taskwise=finetune_taskwise,\n",
    "    oversample=oversample,\n",
    "    continue_qusr=True,\n",
    "    random_state=5555,\n",
    ")"
   ]
  },
  {
   "cell_type": "code",
   "execution_count": 8,
   "metadata": {},
   "outputs": [],
   "source": [
    "qusr.to_dir(results_path)"
   ]
  },
  {
   "cell_type": "markdown",
   "metadata": {},
   "source": [
    "## Fully Train the Model"
   ]
  },
  {
   "cell_type": "code",
   "execution_count": null,
   "metadata": {},
   "outputs": [
    {
     "name": "stderr",
     "output_type": "stream",
     "text": [
      "Some weights of BertForSequenceClassification were not initialized from the model checkpoint at dbmdz/bert-base-german-uncased and are newly initialized: ['classifier.bias', 'classifier.weight']\n",
      "You should probably TRAIN this model on a down-stream task to be able to use it for predictions and inference.\n"
     ]
    },
    {
     "name": "stdout",
     "output_type": "stream",
     "text": [
      "Scoring Model: dbmdz/bert-base-german-uncased\n",
      "Trainable: 109929987 / Total: 109929987\n",
      "Using the following training args:\n",
      " - n_epochs = 3\n",
      " - test_batch_size = 16\n",
      " - eval_steps = 200\n",
      " - logging_steps = 50\n",
      " - device = cuda\n",
      " - cv_training_stuck_attemts = 3\n",
      " - stuck_std_threshold_acc = 0.0001\n",
      " - stuck_std_threshold_loss = 0.01\n"
     ]
    }
   ],
   "source": [
    "quscr = qtscore.QuFinetuneScorer(\n",
    "    save_dir=\"<NOT IN THIS REPO>/fully-trained-scorer/\",\n",
    "    model_name=model_name,\n",
    "    num_labels=qudata.get_n_classes(),\n",
    "    item_task_prefix=True,\n",
    "    it_repl_dict={\"A\": \"Aufgabe \"},\n",
    "    sep=\" [SEP] \",\n",
    ")\n",
    "\n",
    "quscr.set_training_args(\n",
    "    n_epochs=n_epochs,\n",
    ")"
   ]
  },
  {
   "cell_type": "code",
   "execution_count": null,
   "metadata": {},
   "outputs": [],
   "source": [
    "quscr.complete_data_fit(qudata=qudata)\n",
    "quscr.save(\"<NOT IN THIS REPO>/fully-trained-scorer/\")"
   ]
  }
 ],
 "metadata": {
  "kernelspec": {
   "display_name": "diss",
   "language": "python",
   "name": "python3"
  },
  "language_info": {
   "codemirror_mode": {
    "name": "ipython",
    "version": 3
   },
   "file_extension": ".py",
   "mimetype": "text/x-python",
   "name": "python",
   "nbconvert_exporter": "python",
   "pygments_lexer": "ipython3",
   "version": "3.12.5"
  }
 },
 "nbformat": 4,
 "nbformat_minor": 2
}
