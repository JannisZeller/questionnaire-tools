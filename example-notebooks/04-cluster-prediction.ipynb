{
 "cells": [
  {
   "cell_type": "markdown",
   "metadata": {},
   "source": [
    "# Scores Classification - Predicting K-Means Clusters\n",
    "\n",
    "-----\n",
    "\n",
    "Classification of the questionnaire-edits using the scores. Classifying the clusters from the cluster-model in `/example_notebooks/03-kmeans-clustering.ipynb`. Here, a 10-fold cross-validation is carried out but also with 10 different random seeds resulting in 100 classifiers being trained."
   ]
  },
  {
   "cell_type": "markdown",
   "metadata": {},
   "source": [
    "## Load Data"
   ]
  },
  {
   "cell_type": "code",
   "execution_count": 72,
   "metadata": {},
   "outputs": [],
   "source": [
    "import numpy as np\n",
    "\n",
    "import qutools.data as qtdata\n",
    "from qutools.test_classifier import QuScoresClassifier\n",
    "from qutools.test_classifier import QuClassifierResults\n",
    "from qutools.core.classifier import ScikitClassifier"
   ]
  },
  {
   "cell_type": "code",
   "execution_count": null,
   "metadata": {},
   "outputs": [
    {
     "name": "stdout",
     "output_type": "stream",
     "text": [
      "Warning: The `na_aliases` are not specified in the config-yaml under the \"metadata\" primary key. Defaulting to \n",
      "[99, '99', '', '-', '--', 'NA', 'Na', 'na', 'Null', 'null', ' ', 'nan', 'NaN', 'Nan', 'NAN', nan].\n",
      "Checked ID-matches. ✓\n",
      "Validated ID-columns. ✓\n",
      "Validated text-columns. ✓\n",
      "Cleaning text-data whitespaces. ✓\n",
      "All scores in correct ranges. ✓\n",
      "Validated score-columns. ✓\n"
     ]
    }
   ],
   "source": [
    "quconfig = qtdata.QuConfig.from_yaml(\"quconfigs/physics-pck.yaml\")\n",
    "\n",
    "qudata = qtdata.QuData(\n",
    "    quconfig=quconfig,\n",
    "    df_txt=\"<NOT IN THIS REPO>/pck-booklets.xlsx\",\n",
    "    df_scr=\"<NOT IN THIS REPO>/pck-scores.xlsx\",\n",
    ")\n",
    "\n",
    "df_target = qtdata.read_data(\"<NOT IN THIS REPO>/clusters_all.csv\")"
   ]
  },
  {
   "cell_type": "markdown",
   "metadata": {},
   "source": [
    "## Classification Analysis"
   ]
  },
  {
   "cell_type": "code",
   "execution_count": 74,
   "metadata": {},
   "outputs": [],
   "source": [
    "from sklearn.dummy import DummyClassifier\n",
    "from sklearn.linear_model import LogisticRegression\n",
    "\n",
    "from sklearn.metrics import accuracy_score, f1_score, cohen_kappa_score\n",
    "from scipy.stats import norm"
   ]
  },
  {
   "cell_type": "code",
   "execution_count": 75,
   "metadata": {},
   "outputs": [],
   "source": [
    "random_states = np.random.randint(0, 1000000, 10)"
   ]
  },
  {
   "cell_type": "code",
   "execution_count": 76,
   "metadata": {},
   "outputs": [],
   "source": [
    "def print_normal_ci(name: str, data: list[float], alpha: float = 0.95):\n",
    "    mean = np.mean(data)\n",
    "    std = np.std(data)\n",
    "    z = norm.ppf(1 - (1 - alpha) / 2)\n",
    "    ci = z * std / np.sqrt(len(data))\n",
    "    print(f\"{name}\\n - mean {mean:.3f} - ci: [{mean - ci:.3f}, {mean + ci:.3f}]\")\n",
    "\n",
    "\n",
    "def collect_prediction_metrics(quclf: QuScoresClassifier):\n",
    "    metrics = {\n",
    "        \"accuracy\": [],\n",
    "        \"f1\": [],\n",
    "        \"kappa\": [],\n",
    "    }\n",
    "    for rs in random_states:\n",
    "        qcr = quclf.random_cross_validate(\n",
    "            qudata=qudata, \n",
    "            df_target=df_target,\n",
    "            df_strat=df_target[[\"ID\", \"cluster\"]],\n",
    "            strat_col=\"cluster\",\n",
    "            random_state=rs,\n",
    "            verbose_split=False,\n",
    "        )\n",
    "        df_tst = qcr.df_preds[qcr.df_preds[\"mode\"] == \"test\"]\n",
    "        for split in df_tst[\"split\"].unique():\n",
    "            y_true = df_tst[df_tst[\"split\"] == split][\"cluster\"]\n",
    "            y_pred = df_tst[df_tst[\"split\"] == split][\"cluster_pred\"]\n",
    "            metrics[\"accuracy\"].append(accuracy_score(y_true, y_pred))\n",
    "            metrics[\"f1\"].append(f1_score(y_true, y_pred, average=\"weighted\"))\n",
    "            metrics[\"kappa\"].append(cohen_kappa_score(y_true, y_pred))\n",
    "    \n",
    "    for name, data in metrics.items():\n",
    "        print_normal_ci(name, data)"
   ]
  },
  {
   "cell_type": "markdown",
   "metadata": {},
   "source": [
    "### Dummy Classifier"
   ]
  },
  {
   "cell_type": "code",
   "execution_count": 77,
   "metadata": {},
   "outputs": [],
   "source": [
    "quclf_dummy = QuScoresClassifier(\n",
    "    model=ScikitClassifier(DummyClassifier(strategy=\"most_frequent\")),\n",
    "    target_name=\"cluster\",\n",
    "    feature_names=quconfig.get_task_names(),\n",
    ")"
   ]
  },
  {
   "cell_type": "code",
   "execution_count": 78,
   "metadata": {},
   "outputs": [
    {
     "name": "stdout",
     "output_type": "stream",
     "text": [
      "Found 846 common IDs in the passed `qudata` and target data..\n"
     ]
    },
    {
     "name": "stderr",
     "output_type": "stream",
     "text": [
      "100%|██████████| 10/10 [00:00<00:00, 181.44it/s]\n"
     ]
    },
    {
     "name": "stdout",
     "output_type": "stream",
     "text": [
      "Found 846 common IDs in the passed `qudata` and target data..\n"
     ]
    },
    {
     "name": "stderr",
     "output_type": "stream",
     "text": [
      "100%|██████████| 10/10 [00:00<00:00, 157.27it/s]\n"
     ]
    },
    {
     "name": "stdout",
     "output_type": "stream",
     "text": [
      "Found 846 common IDs in the passed `qudata` and target data..\n"
     ]
    },
    {
     "name": "stderr",
     "output_type": "stream",
     "text": [
      "100%|██████████| 10/10 [00:00<00:00, 173.95it/s]\n"
     ]
    },
    {
     "name": "stdout",
     "output_type": "stream",
     "text": [
      "Found 846 common IDs in the passed `qudata` and target data..\n"
     ]
    },
    {
     "name": "stderr",
     "output_type": "stream",
     "text": [
      "100%|██████████| 10/10 [00:00<00:00, 164.25it/s]\n"
     ]
    },
    {
     "name": "stdout",
     "output_type": "stream",
     "text": [
      "Found 846 common IDs in the passed `qudata` and target data..\n"
     ]
    },
    {
     "name": "stderr",
     "output_type": "stream",
     "text": [
      "100%|██████████| 10/10 [00:00<00:00, 172.14it/s]\n"
     ]
    },
    {
     "name": "stdout",
     "output_type": "stream",
     "text": [
      "Found 846 common IDs in the passed `qudata` and target data..\n"
     ]
    },
    {
     "name": "stderr",
     "output_type": "stream",
     "text": [
      "100%|██████████| 10/10 [00:00<00:00, 171.35it/s]\n"
     ]
    },
    {
     "name": "stdout",
     "output_type": "stream",
     "text": [
      "Found 846 common IDs in the passed `qudata` and target data..\n"
     ]
    },
    {
     "name": "stderr",
     "output_type": "stream",
     "text": [
      "100%|██████████| 10/10 [00:00<00:00, 173.55it/s]\n"
     ]
    },
    {
     "name": "stdout",
     "output_type": "stream",
     "text": [
      "Found 846 common IDs in the passed `qudata` and target data..\n"
     ]
    },
    {
     "name": "stderr",
     "output_type": "stream",
     "text": [
      "100%|██████████| 10/10 [00:00<00:00, 146.78it/s]\n"
     ]
    },
    {
     "name": "stdout",
     "output_type": "stream",
     "text": [
      "Found 846 common IDs in the passed `qudata` and target data..\n"
     ]
    },
    {
     "name": "stderr",
     "output_type": "stream",
     "text": [
      "100%|██████████| 10/10 [00:00<00:00, 162.34it/s]\n"
     ]
    },
    {
     "name": "stdout",
     "output_type": "stream",
     "text": [
      "Found 846 common IDs in the passed `qudata` and target data..\n"
     ]
    },
    {
     "name": "stderr",
     "output_type": "stream",
     "text": [
      "100%|██████████| 10/10 [00:00<00:00, 148.71it/s]"
     ]
    },
    {
     "name": "stdout",
     "output_type": "stream",
     "text": [
      "accuracy\n",
      " - mean 0.453 - ci: [0.452, 0.454]\n",
      "f1\n",
      " - mean 0.282 - ci: [0.281, 0.283]\n",
      "kappa\n",
      " - mean 0.000 - ci: [0.000, 0.000]\n"
     ]
    },
    {
     "name": "stderr",
     "output_type": "stream",
     "text": [
      "\n"
     ]
    }
   ],
   "source": [
    "collect_prediction_metrics(quclf_dummy)"
   ]
  },
  {
   "cell_type": "markdown",
   "metadata": {},
   "source": [
    "### Logistic Regression"
   ]
  },
  {
   "cell_type": "code",
   "execution_count": 79,
   "metadata": {},
   "outputs": [],
   "source": [
    "quclf_lr = QuScoresClassifier(\n",
    "    model=ScikitClassifier(LogisticRegression(penalty=\"l2\", C=1.0, max_iter=200)),\n",
    "    target_name=\"cluster\",\n",
    "    feature_names=quconfig.get_task_names(),\n",
    ")"
   ]
  },
  {
   "cell_type": "code",
   "execution_count": 80,
   "metadata": {},
   "outputs": [
    {
     "name": "stdout",
     "output_type": "stream",
     "text": [
      "Found 846 common IDs in the passed `qudata` and target data..\n"
     ]
    },
    {
     "name": "stderr",
     "output_type": "stream",
     "text": [
      "100%|██████████| 10/10 [00:00<00:00, 38.79it/s]\n"
     ]
    },
    {
     "name": "stdout",
     "output_type": "stream",
     "text": [
      "Found 846 common IDs in the passed `qudata` and target data..\n"
     ]
    },
    {
     "name": "stderr",
     "output_type": "stream",
     "text": [
      "100%|██████████| 10/10 [00:00<00:00, 36.68it/s]\n"
     ]
    },
    {
     "name": "stdout",
     "output_type": "stream",
     "text": [
      "Found 846 common IDs in the passed `qudata` and target data..\n"
     ]
    },
    {
     "name": "stderr",
     "output_type": "stream",
     "text": [
      "100%|██████████| 10/10 [00:00<00:00, 41.23it/s]\n"
     ]
    },
    {
     "name": "stdout",
     "output_type": "stream",
     "text": [
      "Found 846 common IDs in the passed `qudata` and target data..\n"
     ]
    },
    {
     "name": "stderr",
     "output_type": "stream",
     "text": [
      "100%|██████████| 10/10 [00:00<00:00, 42.33it/s]\n"
     ]
    },
    {
     "name": "stdout",
     "output_type": "stream",
     "text": [
      "Found 846 common IDs in the passed `qudata` and target data..\n"
     ]
    },
    {
     "name": "stderr",
     "output_type": "stream",
     "text": [
      "100%|██████████| 10/10 [00:00<00:00, 41.89it/s]\n"
     ]
    },
    {
     "name": "stdout",
     "output_type": "stream",
     "text": [
      "Found 846 common IDs in the passed `qudata` and target data..\n"
     ]
    },
    {
     "name": "stderr",
     "output_type": "stream",
     "text": [
      "100%|██████████| 10/10 [00:00<00:00, 38.58it/s]\n"
     ]
    },
    {
     "name": "stdout",
     "output_type": "stream",
     "text": [
      "Found 846 common IDs in the passed `qudata` and target data..\n"
     ]
    },
    {
     "name": "stderr",
     "output_type": "stream",
     "text": [
      "100%|██████████| 10/10 [00:00<00:00, 35.98it/s]\n"
     ]
    },
    {
     "name": "stdout",
     "output_type": "stream",
     "text": [
      "Found 846 common IDs in the passed `qudata` and target data..\n"
     ]
    },
    {
     "name": "stderr",
     "output_type": "stream",
     "text": [
      "100%|██████████| 10/10 [00:00<00:00, 39.41it/s]\n"
     ]
    },
    {
     "name": "stdout",
     "output_type": "stream",
     "text": [
      "Found 846 common IDs in the passed `qudata` and target data..\n"
     ]
    },
    {
     "name": "stderr",
     "output_type": "stream",
     "text": [
      "100%|██████████| 10/10 [00:00<00:00, 40.59it/s]\n"
     ]
    },
    {
     "name": "stdout",
     "output_type": "stream",
     "text": [
      "Found 846 common IDs in the passed `qudata` and target data..\n"
     ]
    },
    {
     "name": "stderr",
     "output_type": "stream",
     "text": [
      "100%|██████████| 10/10 [00:00<00:00, 38.36it/s]"
     ]
    },
    {
     "name": "stdout",
     "output_type": "stream",
     "text": [
      "accuracy\n",
      " - mean 0.943 - ci: [0.939, 0.948]\n",
      "f1\n",
      " - mean 0.943 - ci: [0.938, 0.948]\n",
      "kappa\n",
      " - mean 0.918 - ci: [0.911, 0.925]\n"
     ]
    },
    {
     "name": "stderr",
     "output_type": "stream",
     "text": [
      "\n"
     ]
    }
   ],
   "source": [
    "collect_prediction_metrics(quclf_lr)"
   ]
  }
 ],
 "metadata": {
  "kernelspec": {
   "display_name": "diss",
   "language": "python",
   "name": "python3"
  },
  "language_info": {
   "codemirror_mode": {
    "name": "ipython",
    "version": 3
   },
   "file_extension": ".py",
   "mimetype": "text/x-python",
   "name": "python",
   "nbconvert_exporter": "python",
   "pygments_lexer": "ipython3",
   "version": "3.12.5"
  },
  "orig_nbformat": 4
 },
 "nbformat": 4,
 "nbformat_minor": 2
}
